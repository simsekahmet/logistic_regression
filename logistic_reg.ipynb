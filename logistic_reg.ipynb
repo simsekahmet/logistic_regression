{
  "nbformat": 4,
  "nbformat_minor": 0,
  "metadata": {
    "colab": {
      "provenance": [],
      "authorship_tag": "ABX9TyNknSH6DikZIk0AAYgTcNIY",
      "include_colab_link": true
    },
    "kernelspec": {
      "name": "python3",
      "display_name": "Python 3"
    },
    "language_info": {
      "name": "python"
    }
  },
  "cells": [
    {
      "cell_type": "markdown",
      "metadata": {
        "id": "view-in-github",
        "colab_type": "text"
      },
      "source": [
        "<a href=\"https://colab.research.google.com/github/simsekahmet/logistic_regression/blob/main/logistic_reg.ipynb\" target=\"_parent\"><img src=\"https://colab.research.google.com/assets/colab-badge.svg\" alt=\"Open In Colab\"/></a>"
      ]
    },
    {
      "cell_type": "code",
      "execution_count": null,
      "metadata": {
        "id": "TDgCh8jPUYFf"
      },
      "outputs": [],
      "source": [
        "import pandas as pd\n",
        "import numpy as np\n",
        "import seaborn as sns\n",
        "import matplotlib.pyplot as plt\n",
        "import statsmodels.api as sm\n"
      ]
    },
    {
      "cell_type": "code",
      "source": [
        "df = pd.read_csv(\"Bank_data.csv\")\n",
        "df.drop(\"Unnamed: 0\", axis=1, inplace=True)\n",
        "df_copy = df\n",
        "print(df.head())\n",
        "\n",
        "x = df[[\"interest_rate\", \"credit\", \"march\", \"may\", \"previous\", \"duration\"]]\n",
        "df[\"y\"] = df[\"y\"].map({\"no\": 0, \"yes\": 1})\n",
        "y = df[\"y\"]"
      ],
      "metadata": {
        "id": "YPSjOFiOWrdP"
      },
      "execution_count": null,
      "outputs": []
    },
    {
      "cell_type": "code",
      "source": [
        "def logistic_regression(x1, y):\n",
        "    \"\"\"Logistic Regression with statsmodel\n",
        "\n",
        "    --------------------\n",
        "    Args:\n",
        "        x1 (DataFrame): independent variables\n",
        "        y (DataFrame): dependent variables (dummy variable)\n",
        "\n",
        "    --------------------\n",
        "    Returns: Logit Regression Results, accuracy of model\n",
        "\n",
        "    --------------------\n",
        "    Example:\n",
        "        x1 = df[[\"interest_rate\", \"credit\", \"march\", \"may\", \"previous\", \"duration\"]]\n",
        "        y = df[\"y\"]\n",
        "                                        or\n",
        "        x1 = df[\"duration\"]\n",
        "        y = df[\"y\"]\n",
        "    \"\"\"\n",
        "    if x1.shape == y.shape:\n",
        "        plt.scatter(x1,y,color = 'C0')\n",
        "        plt.xlabel(pd.DataFrame(x1).columns.values[0], fontsize = 20)\n",
        "        plt.ylabel(pd.DataFrame(y).columns.values[0], fontsize = 20)\n",
        "        plt.show()\n",
        "\n",
        "    x = sm.add_constant(x1)\n",
        "    reg_log = sm.Logit(y,x).fit()\n",
        "    print(reg_log.summary())\n",
        "    reg_log.predict()\n",
        "    cm_df = pd.DataFrame(reg_log.pred_table())\n",
        "    cm_df.columns = ['Predicted 0','Predicted 1']\n",
        "    cm_df = cm_df.rename(index={0:'Actual 0',1:'Actual 1'})\n",
        "    cm = np.array(cm_df)\n",
        "    accuracy_train = (cm[0,0]+cm[1,1])/cm.sum()\n",
        "    print(cm_df)\n",
        "    print(\"=================================================================================\")\n",
        "    print(\"Accuray of model:\", accuracy_train.round(3))\n",
        "    print(\"Missclassification rate:\", (1-accuracy_train).round(3))"
      ],
      "metadata": {
        "id": "UQhNrcyrWtK2"
      },
      "execution_count": null,
      "outputs": []
    },
    {
      "cell_type": "code",
      "source": [
        "logistic_regression(x, y)"
      ],
      "metadata": {
        "id": "uZaRHAmbWuTr"
      },
      "execution_count": null,
      "outputs": []
    }
  ]
}